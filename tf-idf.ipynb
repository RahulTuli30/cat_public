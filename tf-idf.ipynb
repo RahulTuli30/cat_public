{
 "cells": [
  {
   "cell_type": "markdown",
   "metadata": {},
   "source": [
    "# TF - IDF (Term Frequency Inverse Document Frequency)"
   ]
  },
  {
   "cell_type": "markdown",
   "metadata": {},
   "source": [
    "![title](img/1.png)"
   ]
  },
  {
   "cell_type": "code",
   "execution_count": 1,
   "metadata": {},
   "outputs": [],
   "source": [
    "# Load libraries\n",
    "import glob, os\n",
    "import numpy as np\n",
    "import pandas as pd\n",
    "from sklearn.feature_extraction.text import TfidfVectorizer\n",
    "from sklearn.feature_extraction.text import CountVectorizer, TfidfTransformer\n",
    "from sklearn.decomposition import PCA\n",
    "from sklearn.pipeline import Pipeline\n",
    "import matplotlib.pyplot as plt\n",
    "import nltk\n",
    "from nltk.corpus import stopwords\n",
    "# from nltk.book import *\n",
    "# nltk.download('stopwords')"
   ]
  },
  {
   "cell_type": "code",
   "execution_count": 2,
   "metadata": {},
   "outputs": [],
   "source": [
    "# Some Control Variables \n",
    "ref_source_folder = r'/home/cat/Tuli/AnalysisFall2018/data/ref/'\n",
    "hyp_source_folder = r'/home/cat/Tuli/AnalysisFall2018/data/hyp/'\n",
    "\n",
    "CWD = r'/home/cat/Tuli/AnalysisFall2018/plots/'\n",
    "stop_words =set(stopwords.words('english'))\n",
    "TOP_N = 30"
   ]
  },
  {
   "cell_type": "code",
   "execution_count": 3,
   "metadata": {},
   "outputs": [],
   "source": [
    "def get_txt_filenames(source):\n",
    "    os.chdir(source)\n",
    "    return [source + file for file in glob.glob(\"*.txt\")]"
   ]
  },
  {
   "cell_type": "code",
   "execution_count": 4,
   "metadata": {},
   "outputs": [],
   "source": [
    "def get_contents(filename):\n",
    "    with open(filename, 'rb') as f:\n",
    "        return str(f.read())"
   ]
  },
  {
   "cell_type": "code",
   "execution_count": 5,
   "metadata": {},
   "outputs": [],
   "source": [
    "def top_tfidf_feats(row, features, top_n=25):\n",
    "    ''' Get top n tfidf values in row and return them with their corresponding feature names.'''\n",
    "    topn_ids = np.argsort(row)[::-1][:top_n]\n",
    "    top_feats = [(features[i], row[i]) for i in topn_ids]\n",
    "    df = pd.DataFrame(top_feats)\n",
    "    df.columns = ['feature', 'tfidf']\n",
    "    return df"
   ]
  },
  {
   "cell_type": "code",
   "execution_count": 6,
   "metadata": {},
   "outputs": [],
   "source": [
    "def plot_tfidf_classfeats_h(dfs, name):\n",
    "    ''' Plot the data frames returned by the function plot_tfidf_classfeats(). '''\n",
    "#     fig = plt.figure(figsize=(120, 90), facecolor=\"w\")\n",
    "    fig = plt.figure()\n",
    "    fig, ax = plt.subplots(1, len(dfs))\n",
    "    x = np.arange(len(dfs[0]))\n",
    "    for key, df in dfs.items():\n",
    "        ax[key].spines[\"top\"].set_visible(False)\n",
    "        ax[key].spines[\"right\"].set_visible(False)\n",
    "        ax[key].set_frame_on(True)\n",
    "        ax[key].get_xaxis().tick_bottom()\n",
    "        ax[key].get_yaxis().tick_left()\n",
    "        ax[key].set_xlabel(\"Mean Tf-Idf Score\", labelpad=16, fontsize=14)\n",
    "        ax[key].set_title(\"label = \" + str(key), fontsize=16)\n",
    "        ax[key].ticklabel_format(axis='x', style='sci', scilimits=(-4,4))\n",
    "        ax[key].barh(x, df.tfidf, align='center', color='#3F5D7D')\n",
    "        ax[key].set_yticks(x)\n",
    "        ax[key].set_ylim([-1, x[-1]+1])\n",
    "        yticks = ax[key].set_yticklabels(df.feature)\n",
    "        plt.subplots_adjust(bottom=0.09, right=0.97, left=0.15, top=0.95, wspace=0.52)\n",
    "    plt.savefig('{}.png'.format(name), format='png', dpi=1000)\n",
    "    \n",
    "    plt.show()\n",
    "    "
   ]
  },
  {
   "cell_type": "code",
   "execution_count": 7,
   "metadata": {},
   "outputs": [],
   "source": [
    "def remove_stopwords(string):\n",
    "    return \" \".join([word for word in string.split() if word not in stop_words])"
   ]
  },
  {
   "cell_type": "code",
   "execution_count": 8,
   "metadata": {},
   "outputs": [],
   "source": [
    "def getWordDetectionPercentage(ref_data, hyp_data):\n",
    "    ref = set(' '.join(ref_data).split())\n",
    "    hyp = set(' '.join(hyp_data).split())\n",
    "    \n",
    "    not_detected = ref - hyp\n",
    "    detection_percentage = (len(ref) - len(not_detected)) * 100.0/len(ref)\n",
    "    \n",
    "    print(\"{} % of keywords detected from reference\".format(detection_percentage))\n",
    "    \n",
    "    if not_detected:\n",
    "        print(\"There were a few undetected keywords\")\n",
    "#         analyse(list(not_detected))\n",
    "        return not_detected"
   ]
  },
  {
   "cell_type": "code",
   "execution_count": 9,
   "metadata": {},
   "outputs": [],
   "source": [
    "def drive(data, name):\n",
    "    # Create the tf-idf feature matrix\n",
    "    tfidf = TfidfVectorizer()\n",
    "    feature_matrix = tfidf.fit_transform(data)\n",
    "\n",
    "    # Show tf-idf feature matrix\n",
    "    feature_matrix.toarray()\n",
    "\n",
    "    # Show tf-idf feature matrix\n",
    "    tfidf.get_feature_names()\n",
    "\n",
    "    # Create data frame\n",
    "    words = pd.DataFrame(feature_matrix.toarray(), columns=tfidf.get_feature_names())\n",
    "\n",
    "    os.chdir(CWD)\n",
    "\n",
    "    top_ns = { key : top_tfidf_feats(words.iloc[key], words.columns, top_n=TOP_N) for key in range(len(words))}\n",
    "    plot_tfidf_classfeats_h(top_ns, name)"
   ]
  },
  {
   "cell_type": "markdown",
   "metadata": {},
   "source": [
    "![title](img/2.jpeg)"
   ]
  },
  {
   "cell_type": "markdown",
   "metadata": {},
   "source": [
    "## Let's try  this out for Evolutionary Biology "
   ]
  },
  {
   "cell_type": "code",
   "execution_count": 10,
   "metadata": {},
   "outputs": [
    {
     "data": {
      "text/plain": [
       "['/home/cat/Tuli/AnalysisFall2018/data/ref/BIOL265_REF_11062018_cleaned.txt',\n",
       " '/home/cat/Tuli/AnalysisFall2018/data/ref/BIOL265_REF_10112018_cleaned.txt',\n",
       " '/home/cat/Tuli/AnalysisFall2018/data/ref/BIOL265_CF_10252018_REF_cleaned.txt']"
      ]
     },
     "execution_count": 10,
     "metadata": {},
     "output_type": "execute_result"
    }
   ],
   "source": [
    "ref_input_files = get_txt_filenames(ref_source_folder)\n",
    "ref_input_files"
   ]
  },
  {
   "cell_type": "code",
   "execution_count": 11,
   "metadata": {},
   "outputs": [
    {
     "data": {
      "text/plain": [
       "['/home/cat/Tuli/AnalysisFall2018/data/hyp/BIOL265_MSPPT_10112018_HYP_cleaned.txt',\n",
       " '/home/cat/Tuli/AnalysisFall2018/data/hyp/BIOL265_MSPPT_11062018_HYP_cleaned.txt',\n",
       " '/home/cat/Tuli/AnalysisFall2018/data/hyp/BIOL265_MSPPT_10252018_HYP_cleaned.txt']"
      ]
     },
     "execution_count": 11,
     "metadata": {},
     "output_type": "execute_result"
    }
   ],
   "source": [
    "hyp_input_files = get_txt_filenames(hyp_source_folder)\n",
    "hyp_input_files"
   ]
  },
  {
   "cell_type": "code",
   "execution_count": 12,
   "metadata": {},
   "outputs": [],
   "source": [
    "ref_data = [get_contents(filename)[2:-1] for filename in ref_input_files]\n",
    "hyp_data = [get_contents(filename)[2:-1] for filename in hyp_input_files]"
   ]
  },
  {
   "cell_type": "code",
   "execution_count": 13,
   "metadata": {},
   "outputs": [
    {
     "data": {
      "text/plain": [
       "<Figure size 432x288 with 0 Axes>"
      ]
     },
     "metadata": {},
     "output_type": "display_data"
    },
    {
     "data": {
      "image/png": "[encoded data removed]",
      "text/plain": [
       "<Figure size 432x288 with 3 Axes>"
      ]
     },
     "metadata": {
      "needs_background": "light"
     },
     "output_type": "display_data"
    }
   ],
   "source": [
    "drive(ref_data, \"EvolutionaryBiologyReferenceData\")"
   ]
  },
  {
   "cell_type": "code",
   "execution_count": 14,
   "metadata": {},
   "outputs": [
    {
     "data": {
      "text/plain": [
       "<Figure size 432x288 with 0 Axes>"
      ]
     },
     "metadata": {},
     "output_type": "display_data"
    },
    {
     "data": {
      "image/png": "[encoded data removed]",
      "text/plain": [
       "<Figure size 432x288 with 3 Axes>"
      ]
     },
     "metadata": {
      "needs_background": "light"
     },
     "output_type": "display_data"
    }
   ],
   "source": [
    "drive(hyp_data, \"EvolutionaryBiologyHypothesisData\")"
   ]
  },
  {
   "cell_type": "code",
   "execution_count": 15,
   "metadata": {},
   "outputs": [],
   "source": [
    "ref_data = [remove_stopwords(document) for document in ref_data]\n",
    "hyp_data = [remove_stopwords(document) for document in hyp_data]"
   ]
  },
  {
   "cell_type": "code",
   "execution_count": 16,
   "metadata": {},
   "outputs": [
    {
     "data": {
      "text/plain": [
       "<Figure size 432x288 with 0 Axes>"
      ]
     },
     "metadata": {},
     "output_type": "display_data"
    },
    {
     "data": {
      "image/png": "[encoded data removed]",
      "text/plain": [
       "<Figure size 432x288 with 3 Axes>"
      ]
     },
     "metadata": {
      "needs_background": "light"
     },
     "output_type": "display_data"
    }
   ],
   "source": [
    "drive(ref_data, \"EvolutionaryBiologyReferenceDataWithoutStopWords\")"
   ]
  },
  {
   "cell_type": "code",
   "execution_count": 17,
   "metadata": {},
   "outputs": [
    {
     "data": {
      "text/plain": [
       "<Figure size 432x288 with 0 Axes>"
      ]
     },
     "metadata": {},
     "output_type": "display_data"
    },
    {
     "data": {
      "image/png": "[encoded data removed]",
      "text/plain": [
       "<Figure size 432x288 with 3 Axes>"
      ]
     },
     "metadata": {
      "needs_background": "light"
     },
     "output_type": "display_data"
    }
   ],
   "source": [
    "drive(hyp_data, \"EvolutionaryBiologyHypothesisDataWithoutStopWords\")"
   ]
  },
  {
   "cell_type": "code",
   "execution_count": 18,
   "metadata": {},
   "outputs": [],
   "source": [
    "# def analyse(words):\n",
    "    "
   ]
  },
  {
   "cell_type": "code",
   "execution_count": 19,
   "metadata": {},
   "outputs": [
    {
     "name": "stdout",
     "output_type": "stream",
     "text": [
      "88.75144955546966 % of keywords detected from reference\n",
      "There were a few undetected keywords\n"
     ]
    },
    {
     "data": {
      "text/plain": [
       "{\"'80s\",\n",
       " '100000',\n",
       " '12-legged',\n",
       " '120millimeter',\n",
       " '13th',\n",
       " '1800',\n",
       " '1850',\n",
       " '1950s',\n",
       " '2018',\n",
       " '32000',\n",
       " '32n',\n",
       " '3d',\n",
       " '46',\n",
       " '800',\n",
       " '830',\n",
       " '\\\\n',\n",
       " 'a-u',\n",
       " 'accumulated',\n",
       " 'actg',\n",
       " 'advanced',\n",
       " 'advantages',\n",
       " 'ah',\n",
       " 'ahead',\n",
       " 'antennae',\n",
       " 'anteriorposterior',\n",
       " 'anyhoo',\n",
       " 'apoptosis',\n",
       " 'apply',\n",
       " 'audience',\n",
       " 'audubon',\n",
       " 'aw',\n",
       " 'backtracked',\n",
       " 'bah',\n",
       " 'barriers',\n",
       " 'bellyyellowbelly',\n",
       " 'benefitted',\n",
       " 'billion',\n",
       " 'biofilm',\n",
       " 'birthday',\n",
       " 'blastulas',\n",
       " 'bookending',\n",
       " 'bumblebees',\n",
       " 'butt',\n",
       " 'calculated',\n",
       " 'carbon-carbon',\n",
       " 'catalysts',\n",
       " 'cell-based',\n",
       " 'chains',\n",
       " 'chapterrelated',\n",
       " 'checkin',\n",
       " 'chest',\n",
       " 'chloroplast',\n",
       " 'chowing',\n",
       " 'circle',\n",
       " 'clabeled',\n",
       " 'clearcut',\n",
       " 'cliques',\n",
       " 'coevolutionary',\n",
       " 'colony',\n",
       " 'colorblind',\n",
       " 'commonalities',\n",
       " 'connelly',\n",
       " 'cory',\n",
       " 'cross',\n",
       " 'crosspollinate',\n",
       " 'cs',\n",
       " 'currents',\n",
       " 'cvalue',\n",
       " 'daughter',\n",
       " 'deal-breaker',\n",
       " 'deep-dive',\n",
       " 'defined',\n",
       " 'desk',\n",
       " 'dna-based',\n",
       " 'donuts',\n",
       " 'doth',\n",
       " 'dr',\n",
       " 'due',\n",
       " 'dweller',\n",
       " 'echinoderm',\n",
       " 'ecoli',\n",
       " 'ecology',\n",
       " 'ecotones',\n",
       " 'eh',\n",
       " 'eight',\n",
       " 'electronic',\n",
       " 'emoji',\n",
       " 'endpoint',\n",
       " 'environmentallydriven',\n",
       " 'equated',\n",
       " 'estimating',\n",
       " 'evo',\n",
       " 'exists',\n",
       " 'exoskeleton',\n",
       " 'express',\n",
       " 'eye',\n",
       " 'faceyogamethodcom',\n",
       " 'fertility',\n",
       " 'fill-ins',\n",
       " 'fillin',\n",
       " 'fillins',\n",
       " 'fine-tuning',\n",
       " 'firebellied',\n",
       " 'firebellies',\n",
       " 'fishies',\n",
       " 'fivepoint',\n",
       " 'flopped',\n",
       " 'fluid-filled',\n",
       " 'flybased',\n",
       " 'forgot',\n",
       " 'formed',\n",
       " 'g-c',\n",
       " 'g-u',\n",
       " 'g1',\n",
       " 'g4',\n",
       " 'galapagos',\n",
       " 'gearing',\n",
       " 'gettogether',\n",
       " 'gigabase',\n",
       " 'giglibase',\n",
       " 'gland',\n",
       " 'glow-in-the-dark',\n",
       " 'golgis',\n",
       " 'gs',\n",
       " 'gvalue',\n",
       " 'hanley',\n",
       " 'heads',\n",
       " 'hemichordates',\n",
       " 'hepb',\n",
       " 'hording',\n",
       " 'hosts',\n",
       " 'hum',\n",
       " \"hummingbird's\",\n",
       " 'hyper',\n",
       " 'insane',\n",
       " 'insects',\n",
       " 'it\\\\x92s',\n",
       " 'itish',\n",
       " \"jordan's\",\n",
       " 'judgy',\n",
       " 'jumps',\n",
       " 'lampreys',\n",
       " 'lasts',\n",
       " 'laughter',\n",
       " 'led',\n",
       " 'lifespan',\n",
       " 'lightdark',\n",
       " 'lights',\n",
       " 'lineage',\n",
       " 'long-term',\n",
       " 'longterm',\n",
       " 'lsd',\n",
       " 'mainlands',\n",
       " 'mariah',\n",
       " 'matched',\n",
       " 'maybe\\\\n',\n",
       " 'maybes',\n",
       " 'megabase',\n",
       " 'membrane-bound',\n",
       " 'mic',\n",
       " 'mitochondrion',\n",
       " 'mommy',\n",
       " 'moooo',\n",
       " 'morphologybased',\n",
       " 'mrnas',\n",
       " 'multicellular',\n",
       " 'mycoplasmas',\n",
       " 'naming',\n",
       " 'nancying',\n",
       " 'nematodes',\n",
       " 'noncodings',\n",
       " 'nonselective',\n",
       " 'note',\n",
       " 'occurred',\n",
       " 'occurring',\n",
       " 'offcampus',\n",
       " 'ooze',\n",
       " \"organism's\",\n",
       " 'organization',\n",
       " 'orgo',\n",
       " 'ought',\n",
       " 'outlined',\n",
       " 'outsides',\n",
       " 'packed',\n",
       " 'pair-rule',\n",
       " 'paths',\n",
       " 'pea',\n",
       " 'photoshop',\n",
       " 'picograms',\n",
       " 'plabeled',\n",
       " 'pointy',\n",
       " 'poles',\n",
       " 'poo',\n",
       " 'pre-making',\n",
       " 'pre-mrnas',\n",
       " 'present',\n",
       " 'prolonged',\n",
       " 'prophage',\n",
       " 'prospect',\n",
       " 'push',\n",
       " 'record-keeper',\n",
       " 'review',\n",
       " 'ribcage',\n",
       " 'rit',\n",
       " 'rna-',\n",
       " 'rna-based',\n",
       " 'roundworms',\n",
       " 'sacrifice',\n",
       " 'sandra',\n",
       " 'screw',\n",
       " 'seasonably',\n",
       " 'seaway',\n",
       " 'sees',\n",
       " 'self-form',\n",
       " 'self-replicating',\n",
       " 'sequencebased',\n",
       " 'seven',\n",
       " 'shortlived',\n",
       " 'shorts',\n",
       " 'sits',\n",
       " 'six',\n",
       " 'six-minute',\n",
       " 'six-winged',\n",
       " 'sketchier',\n",
       " 'skuse',\n",
       " 'slipped',\n",
       " 'slow-burning',\n",
       " 'smooshed',\n",
       " 'sonic-enhanced',\n",
       " 'sources',\n",
       " 'speed',\n",
       " 'standalone',\n",
       " 'standards',\n",
       " 'steal',\n",
       " 'stranger',\n",
       " 'streamlined',\n",
       " 'strep',\n",
       " 'subspecies',\n",
       " 'suggests',\n",
       " \"sweet's\",\n",
       " 'sweetie',\n",
       " 'swordfish',\n",
       " 'taxons',\n",
       " 'technical',\n",
       " 'ten',\n",
       " 'termed',\n",
       " 'terrific',\n",
       " 'tests',\n",
       " 'thinkgeek',\n",
       " 'thoughts',\n",
       " 'three-',\n",
       " 'three-dimensional',\n",
       " 'threequarters',\n",
       " 'threw',\n",
       " 'throughout',\n",
       " 'tied',\n",
       " 'time-synced',\n",
       " 'timeframes',\n",
       " 'timelines',\n",
       " 'tlc',\n",
       " 'to-do',\n",
       " 'tows',\n",
       " 'trans',\n",
       " 'transcriptiontranslation',\n",
       " 'transplanted',\n",
       " 'ts',\n",
       " \"tuesday's\",\n",
       " 'um',\n",
       " 'undifferentiated',\n",
       " 'unfertilized',\n",
       " 'uno',\n",
       " 'unsettling',\n",
       " 'upright',\n",
       " 'urochordates',\n",
       " 'vegetal',\n",
       " 'virulence',\n",
       " 'virulent',\n",
       " \"ward's\",\n",
       " \"we'd\",\n",
       " 'weighed',\n",
       " 'whacky',\n",
       " 'whoopee',\n",
       " 'wikipedia',\n",
       " 'win',\n",
       " 'wormy',\n",
       " 'yareta',\n",
       " 'yaxis',\n",
       " 'yep',\n",
       " \"yeti's\",\n",
       " 'z',\n",
       " \"zack's\"}"
      ]
     },
     "execution_count": 19,
     "metadata": {},
     "output_type": "execute_result"
    }
   ],
   "source": [
    "getWordDetectionPercentage(ref_data, hyp_data)"
   ]
  },
  {
   "cell_type": "code",
   "execution_count": null,
   "metadata": {},
   "outputs": [],
   "source": []
  }
 ],
 "metadata": {
  "kernelspec": {
   "display_name": "Python 3",
   "language": "python",
   "name": "python3"
  },
  "language_info": {
   "codemirror_mode": {
    "name": "ipython",
    "version": 3
   },
   "file_extension": ".py",
   "mimetype": "text/x-python",
   "name": "python",
   "nbconvert_exporter": "python",
   "pygments_lexer": "ipython3",
   "version": "3.7.3"
  }
 },
 "nbformat": 4,
 "nbformat_minor": 4
}
