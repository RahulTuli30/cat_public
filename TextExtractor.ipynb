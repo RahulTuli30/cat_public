{
 "cells": [
  {
   "cell_type": "code",
   "execution_count": 1,
   "metadata": {
    "scrolled": true
   },
   "outputs": [],
   "source": [
    "import textract\n",
    "import PySimpleGUI as sg"
   ]
  },
  {
   "cell_type": "code",
   "execution_count": 2,
   "metadata": {},
   "outputs": [
    {
     "ename": "TypeError",
     "evalue": "set expected at most 1 arguments, got 5",
     "output_type": "error",
     "traceback": [
      "\u001b[0;31m---------------------------------------------------------------------------\u001b[0m",
      "\u001b[0;31mTypeError\u001b[0m                                 Traceback (most recent call last)",
      "\u001b[0;32m<ipython-input-2-7611ab4ef452>\u001b[0m in \u001b[0;36m<module>\u001b[0;34m\u001b[0m\n\u001b[1;32m      6\u001b[0m \u001b[0;32mimport\u001b[0m \u001b[0mstring\u001b[0m\u001b[0;34m\u001b[0m\u001b[0;34m\u001b[0m\u001b[0m\n\u001b[1;32m      7\u001b[0m \u001b[0mextensions\u001b[0m \u001b[0;34m=\u001b[0m \u001b[0;34m[\u001b[0m\u001b[0;34m'docx'\u001b[0m\u001b[0;34m,\u001b[0m \u001b[0;34m'pdf'\u001b[0m\u001b[0;34m,\u001b[0m \u001b[0;34m'pptx'\u001b[0m\u001b[0;34m]\u001b[0m\u001b[0;34m\u001b[0m\u001b[0;34m\u001b[0m\u001b[0m\n\u001b[0;32m----> 8\u001b[0;31m \u001b[0mexclude\u001b[0m \u001b[0;34m=\u001b[0m \u001b[0mset\u001b[0m\u001b[0;34m(\u001b[0m\u001b[0mstring\u001b[0m\u001b[0;34m.\u001b[0m\u001b[0mpunctuation\u001b[0m\u001b[0;34m)\u001b[0m\u001b[0;34m.\u001b[0m\u001b[0mdifference\u001b[0m\u001b[0;34m(\u001b[0m\u001b[0mset\u001b[0m\u001b[0;34m(\u001b[0m\u001b[0;34m'?'\u001b[0m\u001b[0;34m,\u001b[0m\u001b[0;34m'!'\u001b[0m\u001b[0;34m,\u001b[0m \u001b[0;34m'.'\u001b[0m\u001b[0;34m,\u001b[0m \u001b[0;34m','\u001b[0m\u001b[0;34m,\u001b[0m \u001b[0;34m\"'\"\u001b[0m\u001b[0;34m)\u001b[0m\u001b[0;34m)\u001b[0m\u001b[0;34m\u001b[0m\u001b[0;34m\u001b[0m\u001b[0m\n\u001b[0m",
      "\u001b[0;31mTypeError\u001b[0m: set expected at most 1 arguments, got 5"
     ]
    }
   ],
   "source": [
    "import os\n",
    "import glob\n",
    "import re\n",
    "import subprocess\n",
    "from collections import defaultdict\n",
    "import string\n",
    "extensions = ['docx', 'pdf', 'pptx']\n",
    "exclude = set(string.punctuation).difference(set(['?','!', '.', ',', \"'\"]))\n"
   ]
  },
  {
   "cell_type": "code",
   "execution_count": 3,
   "metadata": {},
   "outputs": [],
   "source": [
    "def glob_re(pattern, strings):\n",
    "    return filter(re.compile(pattern).match, strings)\n",
    "\n",
    "def process(directory):\n",
    "    os.chdir(directory)\n",
    "    if values['docx']:\n",
    "        for doc in glob.iglob('*.doc'):\n",
    "                subprocess.call(['soffice', '--headless', '--convert-to', 'docx', doc])#'--outdir',directory + \"/temp\", doc])\n",
    "                print(\"Converted old {} to new {}x\".format(doc, doc))\n",
    "                os.remove(doc)\n",
    "                print(\"Deleted old {}\".format(doc))\n",
    "                \n",
    "\n",
    "def get_all_subfolders(directory):\n",
    "    os.chdir(directory) \n",
    "\n",
    "    # Mark all the vertices as not visited \n",
    "    visited = defaultdict(lambda:False) \n",
    "\n",
    "    # Create a queue for BFS \n",
    "    queue = [] \n",
    "\n",
    "    # Mark the source node as  \n",
    "    # visited and enqueue it \n",
    "    queue.append(directory) \n",
    "    visited[directory] = True\n",
    "\n",
    "    while queue: \n",
    "\n",
    "        # Dequeue a vertex from  \n",
    "        # queue and print it \n",
    "        s = queue.pop(0) \n",
    "        print (s, end = \" \") \n",
    "        os.chdir(s)\n",
    "        # Get all adjacent vertices of the \n",
    "        # dequeued vertex s. If a adjacent \n",
    "        # has not been visited, then mark it \n",
    "        # visited and enqueue it \n",
    "        for i in glob.glob('*/'): \n",
    "            if visited[i] == False: \n",
    "                queue.append(s + \"/\"+ i) \n",
    "                visited[i] = True\n",
    "    \n",
    "    return visited"
   ]
  },
  {
   "cell_type": "code",
   "execution_count": 6,
   "metadata": {},
   "outputs": [
    {
     "name": "stdout",
     "output_type": "stream",
     "text": [
      ".*(.)$\n"
     ]
    },
    {
     "ename": "TypeError",
     "evalue": "chdir: path should be string, bytes, os.PathLike or integer, not NoneType",
     "output_type": "error",
     "traceback": [
      "\u001b[0;31m---------------------------------------------------------------------------\u001b[0m",
      "\u001b[0;31mTypeError\u001b[0m                                 Traceback (most recent call last)",
      "\u001b[0;32m<ipython-input-6-4dc0412a7579>\u001b[0m in \u001b[0;36m<module>\u001b[0;34m\u001b[0m\n\u001b[1;32m     20\u001b[0m \u001b[0;34m\u001b[0m\u001b[0m\n\u001b[1;32m     21\u001b[0m \u001b[0;32mif\u001b[0m \u001b[0mevent\u001b[0m \u001b[0;34m==\u001b[0m \u001b[0;34m'Submit'\u001b[0m \u001b[0;32mor\u001b[0m \u001b[0mevent\u001b[0m \u001b[0;34m==\u001b[0m \u001b[0;32mNone\u001b[0m \u001b[0;34m:\u001b[0m\u001b[0;34m\u001b[0m\u001b[0;34m\u001b[0m\u001b[0m\n\u001b[0;32m---> 22\u001b[0;31m     \u001b[0mdirectories\u001b[0m \u001b[0;34m=\u001b[0m \u001b[0mget_all_subfolders\u001b[0m\u001b[0;34m(\u001b[0m\u001b[0mvalues\u001b[0m\u001b[0;34m[\u001b[0m\u001b[0;34m'input'\u001b[0m\u001b[0;34m]\u001b[0m\u001b[0;34m)\u001b[0m\u001b[0;34m\u001b[0m\u001b[0;34m\u001b[0m\u001b[0m\n\u001b[0m\u001b[1;32m     23\u001b[0m     \u001b[0;32mif\u001b[0m \u001b[0mevent\u001b[0m\u001b[0;34m:\u001b[0m\u001b[0;34m\u001b[0m\u001b[0;34m\u001b[0m\u001b[0m\n\u001b[1;32m     24\u001b[0m         \u001b[0;32mfor\u001b[0m \u001b[0mdirectory\u001b[0m \u001b[0;32min\u001b[0m \u001b[0mdirectories\u001b[0m\u001b[0;34m:\u001b[0m\u001b[0;34m\u001b[0m\u001b[0;34m\u001b[0m\u001b[0m\n",
      "\u001b[0;32m<ipython-input-3-1d279a02883a>\u001b[0m in \u001b[0;36mget_all_subfolders\u001b[0;34m(directory)\u001b[0m\n\u001b[1;32m     13\u001b[0m \u001b[0;34m\u001b[0m\u001b[0m\n\u001b[1;32m     14\u001b[0m \u001b[0;32mdef\u001b[0m \u001b[0mget_all_subfolders\u001b[0m\u001b[0;34m(\u001b[0m\u001b[0mdirectory\u001b[0m\u001b[0;34m)\u001b[0m\u001b[0;34m:\u001b[0m\u001b[0;34m\u001b[0m\u001b[0;34m\u001b[0m\u001b[0m\n\u001b[0;32m---> 15\u001b[0;31m     \u001b[0mos\u001b[0m\u001b[0;34m.\u001b[0m\u001b[0mchdir\u001b[0m\u001b[0;34m(\u001b[0m\u001b[0mdirectory\u001b[0m\u001b[0;34m)\u001b[0m\u001b[0;34m\u001b[0m\u001b[0;34m\u001b[0m\u001b[0m\n\u001b[0m\u001b[1;32m     16\u001b[0m \u001b[0;34m\u001b[0m\u001b[0m\n\u001b[1;32m     17\u001b[0m     \u001b[0;31m# Mark all the vertices as not visited\u001b[0m\u001b[0;34m\u001b[0m\u001b[0;34m\u001b[0m\u001b[0;34m\u001b[0m\u001b[0m\n",
      "\u001b[0;31mTypeError\u001b[0m: chdir: path should be string, bytes, os.PathLike or integer, not NoneType"
     ]
    }
   ],
   "source": [
    "layout = [[sg.Text('Browse to RESPECTIVE directory')],    \n",
    "                 [sg.Text('IN-DIR', size=(8, 1)), sg.Input(key ='input'), sg.FolderBrowse()],      \n",
    "                 [sg.Text('OUT-FILE', size=(8, 1)), sg.Input(key ='output'), sg.FileBrowse()],\n",
    "                 [sg.Frame(layout=[ \n",
    "                                    [sg.Checkbox('*.doc and *.docx', size=(20,1), default= True, key = 'docx')],\n",
    "                                   # [sg.Checkbox('*.txt', size=(20,1), default= True, key = 'txt')],\n",
    "                                    [sg.Checkbox('*.pptx', size=(10,1), default= True, key = 'pptx'),sg.Checkbox('*.pdf', size=(10,1), default= True, key = 'pdf')]], title = 'Input FileTypes')],                 \n",
    "              [sg.Checkbox('clean non word charcters?', size=(20,1), default= False, key = 'clean')],   \n",
    "              [sg.Submit(), sg.Cancel()]]\n",
    "\n",
    "sg.ChangeLookAndFeel('BrownBlue')\n",
    "window = sg.Window('Rahul\\'s Custom TextExtractor', layout)  \n",
    "\n",
    "event, values = window.Read()  \n",
    "\n",
    "  \n",
    "p = \"|\".join([extension for extension in extensions if values[extension]])\n",
    "p = r\".*(.{})$\".format(p)\n",
    "\n",
    "print(p)\n",
    "\n",
    "if event == 'Submit' or event == None :\n",
    "    directories = get_all_subfolders(values['input'])\n",
    "    if event:\n",
    "        for directory in directories:\n",
    "            process(directory)\n",
    "            filenames = list(glob_re(p, os.listdir()))\n",
    "            print(\"Will Extract Text from {} files:\\n{}\\n\".format(len( filenames), filenames) )\n",
    "            for doc in filenames:\n",
    "                with open(values['output'], 'ab') as f:\n",
    "                    f.write(textract.process(doc))\n",
    "        \n",
    "        print(\"Extraction Complete\")\n",
    "        with open(values['output'], 'r+') as f:\n",
    "            data = f.read()\n",
    "        \n",
    "        print(\"PostProcessing Started\")\n",
    "        data = re.sub(\"\\s\\s+\", \" \", data)\n",
    "        \n",
    "        if values['clean']:\n",
    "            data = data.translate(str.maketrans('', '', ))\n",
    "\n",
    "        print(\"PostProcessing Completed writing To File\")\n",
    "        with open(values['output'], 'w+') as f:\n",
    "            f.write(data)\n",
    "            \n",
    "        print(\"Process complete checkout file {}\".format(values['output']))\n",
    "    \n",
    "    window.Close()"
   ]
  },
  {
   "cell_type": "code",
   "execution_count": null,
   "metadata": {},
   "outputs": [],
   "source": []
  }
 ],
 "metadata": {
  "kernelspec": {
   "display_name": "Python 3",
   "language": "python",
   "name": "python3"
  },
  "language_info": {
   "codemirror_mode": {
    "name": "ipython",
    "version": 3
   },
   "file_extension": ".py",
   "mimetype": "text/x-python",
   "name": "python",
   "nbconvert_exporter": "python",
   "pygments_lexer": "ipython3",
   "version": "3.7.3"
  }
 },
 "nbformat": 4,
 "nbformat_minor": 4
}
